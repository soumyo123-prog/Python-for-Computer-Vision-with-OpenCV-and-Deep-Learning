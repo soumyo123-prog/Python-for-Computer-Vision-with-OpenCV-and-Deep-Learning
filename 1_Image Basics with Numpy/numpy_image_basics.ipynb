{
  "nbformat": 4,
  "nbformat_minor": 0,
  "metadata": {
    "colab": {
      "provenance": [],
      "authorship_tag": "ABX9TyNVIDF5TWuHmvqTDE1qf308",
      "include_colab_link": true
    },
    "kernelspec": {
      "name": "python3",
      "display_name": "Python 3"
    },
    "language_info": {
      "name": "python"
    }
  },
  "cells": [
    {
      "cell_type": "markdown",
      "metadata": {
        "id": "view-in-github",
        "colab_type": "text"
      },
      "source": [
        "<a href=\"https://colab.research.google.com/github/soumyo123-prog/Python-for-Computer-Vision-with-OpenCV-and-Deep-Learning/blob/master/1_Image%20Basics%20with%20Numpy/numpy_image_basics.ipynb\" target=\"_parent\"><img src=\"https://colab.research.google.com/assets/colab-badge.svg\" alt=\"Open In Colab\"/></a>"
      ]
    },
    {
      "cell_type": "code",
      "execution_count": 1,
      "metadata": {
        "id": "n8mih_Ak0a0S"
      },
      "outputs": [],
      "source": [
        "import numpy as np\n",
        "import matplotlib.pyplot as plt\n",
        "%matplotlib inline"
      ]
    },
    {
      "cell_type": "code",
      "source": [
        "from PIL import Image"
      ],
      "metadata": {
        "id": "yi9KZ4ts1XLs"
      },
      "execution_count": 2,
      "outputs": []
    }
  ]
}